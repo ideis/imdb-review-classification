{
 "cells": [
  {
   "cell_type": "code",
   "execution_count": 1,
   "metadata": {},
   "outputs": [
    {
     "name": "stderr",
     "output_type": "stream",
     "text": [
      "Using TensorFlow backend.\n"
     ]
    },
    {
     "name": "stdout",
     "output_type": "stream",
     "text": [
      "[nltk_data] Downloading package stopwords to /home/ideis/nltk_data...\n",
      "[nltk_data]   Package stopwords is already up-to-date!\n"
     ]
    },
    {
     "data": {
      "text/plain": [
       "True"
      ]
     },
     "execution_count": 1,
     "metadata": {},
     "output_type": "execute_result"
    }
   ],
   "source": [
    "import pandas as pd\n",
    "import numpy as np\n",
    "import tensorflow as tf\n",
    "import nltk, re, time\n",
    "from nltk.corpus import stopwords\n",
    "from sklearn.model_selection import train_test_split\n",
    "from keras.preprocessing.text import Tokenizer\n",
    "\n",
    "nltk.download('stopwords')"
   ]
  },
  {
   "cell_type": "code",
   "execution_count": 2,
   "metadata": {},
   "outputs": [],
   "source": [
    "data = pd.read_csv(\"data/labeledTrainData.tsv\", delimiter=\"\\t\")"
   ]
  },
  {
   "cell_type": "code",
   "execution_count": 3,
   "metadata": {},
   "outputs": [],
   "source": [
    "def clean_text(text, remove_stopwords=True):\n",
    "    '''Clean the text, with the option to remove stopwords'''\n",
    "    \n",
    "    text = text.lower().split()\n",
    "\n",
    "    # Optionally, remove stop words\n",
    "    if remove_stopwords:\n",
    "        stops = set(stopwords.words(\"russian\"))\n",
    "        text = [w for w in text if not w in stops]\n",
    "    \n",
    "    text = \" \".join(text)\n",
    "\n",
    "    text = re.sub(r\"<br />\", \" \", text)\n",
    "    text = re.sub(r\"[^a-z]\", \" \", text)\n",
    "    text = re.sub(r\"   \", \" \", text) # Remove any extra spaces\n",
    "    text = re.sub(r\"  \", \" \", text)\n",
    "    \n",
    "    return(text)\n",
    "\n",
    "data['review'] = data.apply(lambda x: clean_text(x['review']), axis=1)"
   ]
  },
  {
   "cell_type": "code",
   "execution_count": 4,
   "metadata": {},
   "outputs": [
    {
     "name": "stdout",
     "output_type": "stream",
     "text": [
      "\n",
      "Training set:\n",
      "  X_train: 20000\n",
      "  y_train: 20000\n",
      "\n",
      "Testing set:\n",
      "  X_test: 5000\n",
      "  y_test: 5000\n"
     ]
    }
   ],
   "source": [
    "def split_data(data, labels, train_test_split=0.8):\n",
    "    data_size = len(data)\n",
    "    test_size = int(data_size - round(data_size * train_test_split))\n",
    "    \n",
    "    print(\"\\nTraining set:\")\n",
    "    X_train = data[test_size:]\n",
    "    print(\"  X_train: {}\".format(len(X_train)))\n",
    "    y_train = labels[test_size:]\n",
    "    print(\"  y_train: {}\".format(len(y_train)))\n",
    "    \n",
    "    print(\"\\nTesting set:\")\n",
    "    X_test = data[:test_size]\n",
    "    print(\"  X_test: {}\".format(len(X_test)))\n",
    "    y_test = labels[:test_size]\n",
    "    print(\"  y_test: {}\".format(len(y_test)))\n",
    "\n",
    "    return X_train, y_train, X_test, y_test\n",
    "\n",
    "X_train, y_train, X_test, y_test = split_data(data, data['sentiment'])"
   ]
  },
  {
   "cell_type": "code",
   "execution_count": 5,
   "metadata": {},
   "outputs": [
    {
     "name": "stdout",
     "output_type": "stream",
     "text": [
      "73272 words in a dictionary\n"
     ]
    }
   ],
   "source": [
    "# Tokenize the reviews\n",
    "num_words = 1000\n",
    "\n",
    "all_reviews = data['review']\n",
    "all_reviews.head()\n",
    "tokenizer = Tokenizer(num_words=num_words)\n",
    "tokenizer.fit_on_texts(all_reviews)\n",
    "\n",
    "total_words = len(tokenizer.word_index)\n",
    "print('{} words in a dictionary'.format(total_words))\n",
    "\n",
    "X_train = tokenizer.texts_to_matrix(X_train['review'])\n",
    "X_test = tokenizer.texts_to_matrix(X_test['review'])\n"
   ]
  },
  {
   "cell_type": "code",
   "execution_count": 6,
   "metadata": {},
   "outputs": [
    {
     "name": "stdout",
     "output_type": "stream",
     "text": [
      "(20000, 1000)\n",
      "(20000, 2)\n",
      "(5000, 1000)\n",
      "(5000, 2)\n"
     ]
    }
   ],
   "source": [
    "from keras.utils import to_categorical\n",
    "y_train = to_categorical(y_train, num_classes=2)\n",
    "y_test = to_categorical(y_test, num_classes=2)\n",
    "\n",
    "print(X_train.shape)\n",
    "print(y_train.shape)\n",
    "print(X_test.shape)\n",
    "print(y_test.shape)"
   ]
  },
  {
   "cell_type": "code",
   "execution_count": 7,
   "metadata": {},
   "outputs": [
    {
     "name": "stdout",
     "output_type": "stream",
     "text": [
      "_________________________________________________________________\n",
      "Layer (type)                 Output Shape              Param #   \n",
      "=================================================================\n",
      "dense_1 (Dense)              (None, 64)                64064     \n",
      "_________________________________________________________________\n",
      "activation_1 (Activation)    (None, 64)                0         \n",
      "_________________________________________________________________\n",
      "dropout_1 (Dropout)          (None, 64)                0         \n",
      "_________________________________________________________________\n",
      "dense_2 (Dense)              (None, 32)                2080      \n",
      "_________________________________________________________________\n",
      "activation_2 (Activation)    (None, 32)                0         \n",
      "_________________________________________________________________\n",
      "dropout_2 (Dropout)          (None, 32)                0         \n",
      "_________________________________________________________________\n",
      "dense_3 (Dense)              (None, 2)                 66        \n",
      "_________________________________________________________________\n",
      "activation_3 (Activation)    (None, 2)                 0         \n",
      "=================================================================\n",
      "Total params: 66,210\n",
      "Trainable params: 66,210\n",
      "Non-trainable params: 0\n",
      "_________________________________________________________________\n",
      "None\n"
     ]
    }
   ],
   "source": [
    "from keras.models import Sequential\n",
    "from keras.layers import Dense\n",
    "from keras.layers import Activation\n",
    "from keras.layers import Dropout\n",
    "\n",
    "model = Sequential()\n",
    "model.add(Dense(64, input_shape=(num_words,)))\n",
    "model.add(Activation('relu'))\n",
    "model.add(Dropout(0.2))\n",
    "model.add(Dense(32))\n",
    "model.add(Activation('relu'))\n",
    "model.add(Dropout(0.2))\n",
    "model.add(Dense(2))\n",
    "model.add(Activation('sigmoid'))\n",
    "\n",
    "model.compile(loss='categorical_crossentropy',\n",
    "              optimizer='adam',\n",
    "              metrics=['accuracy'])\n",
    "\n",
    "print(model.summary())"
   ]
  },
  {
   "cell_type": "code",
   "execution_count": 8,
   "metadata": {},
   "outputs": [
    {
     "name": "stdout",
     "output_type": "stream",
     "text": [
      "Train on 18000 samples, validate on 2000 samples\n",
      "Epoch 1/15\n",
      "18000/18000 [==============================] - 2s 110us/step - loss: 0.4318 - acc: 0.7988 - val_loss: 0.3181 - val_acc: 0.8685\n",
      "Epoch 2/15\n",
      "18000/18000 [==============================] - 2s 99us/step - loss: 0.3283 - acc: 0.8613 - val_loss: 0.3184 - val_acc: 0.8625\n",
      "Epoch 3/15\n",
      "18000/18000 [==============================] - 2s 99us/step - loss: 0.2902 - acc: 0.8787 - val_loss: 0.3336 - val_acc: 0.8650\n",
      "Epoch 4/15\n",
      "18000/18000 [==============================] - 2s 100us/step - loss: 0.2498 - acc: 0.8992 - val_loss: 0.3300 - val_acc: 0.8645\n",
      "Epoch 5/15\n",
      "18000/18000 [==============================] - 2s 122us/step - loss: 0.2054 - acc: 0.9211 - val_loss: 0.3562 - val_acc: 0.8600\n",
      "Epoch 6/15\n",
      "18000/18000 [==============================] - 2s 117us/step - loss: 0.1562 - acc: 0.9435 - val_loss: 0.4091 - val_acc: 0.8510\n",
      "Epoch 7/15\n",
      "18000/18000 [==============================] - 2s 103us/step - loss: 0.1170 - acc: 0.9578 - val_loss: 0.4562 - val_acc: 0.8560\n",
      "Epoch 8/15\n",
      "18000/18000 [==============================] - 2s 101us/step - loss: 0.0964 - acc: 0.9652 - val_loss: 0.5068 - val_acc: 0.8450\n",
      "Epoch 9/15\n",
      "18000/18000 [==============================] - 2s 97us/step - loss: 0.0812 - acc: 0.9709 - val_loss: 0.5347 - val_acc: 0.8530\n",
      "Epoch 10/15\n",
      "18000/18000 [==============================] - 2s 137us/step - loss: 0.0677 - acc: 0.9749 - val_loss: 0.5529 - val_acc: 0.8465\n",
      "Epoch 11/15\n",
      "18000/18000 [==============================] - 2s 114us/step - loss: 0.0541 - acc: 0.9803 - val_loss: 0.6253 - val_acc: 0.8410\n",
      "Epoch 12/15\n",
      "18000/18000 [==============================] - 2s 118us/step - loss: 0.0627 - acc: 0.9772 - val_loss: 0.6133 - val_acc: 0.8465\n",
      "Epoch 13/15\n",
      "18000/18000 [==============================] - 2s 105us/step - loss: 0.0560 - acc: 0.9793 - val_loss: 0.6166 - val_acc: 0.8575\n",
      "Epoch 14/15\n",
      "18000/18000 [==============================] - 2s 123us/step - loss: 0.0502 - acc: 0.9831 - val_loss: 0.6369 - val_acc: 0.8430\n",
      "Epoch 15/15\n",
      "18000/18000 [==============================] - 2s 95us/step - loss: 0.0495 - acc: 0.9831 - val_loss: 0.6742 - val_acc: 0.8500\n"
     ]
    }
   ],
   "source": [
    "history = model.fit(X_train, y_train,\n",
    "                    batch_size=32,\n",
    "                    epochs=15,\n",
    "                    verbose=1,\n",
    "                    validation_split=0.1)"
   ]
  },
  {
   "cell_type": "code",
   "execution_count": 9,
   "metadata": {},
   "outputs": [
    {
     "name": "stdout",
     "output_type": "stream",
     "text": [
      "5000/5000 [==============================] - 0s 39us/step\n",
      "\n",
      "Test accuracy: 0.8298032559394837\n",
      "Model accuracy: 0.8262\n"
     ]
    }
   ],
   "source": [
    "score = model.evaluate(X_test, y_test,\n",
    "                       batch_size=32, verbose=1)\n",
    "print()\n",
    "print(u'Test accuracy: {}'.format(score[0]))\n",
    "print(u'Model accuracy: {}'.format(score[1]))"
   ]
  },
  {
   "cell_type": "code",
   "execution_count": 10,
   "metadata": {},
   "outputs": [
    {
     "data": {
      "image/png": "[encoded data removed]",
      "text/plain": [
       "<matplotlib.figure.Figure at 0x7f28bb988470>"
      ]
     },
     "metadata": {},
     "output_type": "display_data"
    },
    {
     "data": {
      "image/png": "[encoded data removed]",
      "text/plain": [
       "<matplotlib.figure.Figure at 0x7f2898b48ef0>"
      ]
     },
     "metadata": {},
     "output_type": "display_data"
    }
   ],
   "source": [
    "import matplotlib.pyplot as plt\n",
    "\n",
    "# Accuracy graph\n",
    "plt.plot(history.history['acc'])\n",
    "plt.plot(history.history['val_acc'])\n",
    "plt.title('model accuracy')\n",
    "plt.ylabel('accuracy')\n",
    "plt.xlabel('epoch')\n",
    "plt.legend(['train', 'test'], loc='upper left')\n",
    "plt.show()\n",
    "# Loss graph\n",
    "plt.plot(history.history['loss'])\n",
    "plt.plot(history.history['val_loss'])\n",
    "plt.title('model loss')\n",
    "plt.ylabel('loss')\n",
    "plt.xlabel('epoch')\n",
    "plt.legend(['train', 'test'], loc='upper left')\n",
    "plt.show()"
   ]
  }
 ],
 "metadata": {
  "kernelspec": {
   "display_name": "Python 3",
   "language": "python",
   "name": "python3"
  },
  "language_info": {
   "codemirror_mode": {
    "name": "ipython",
    "version": 3
   },
   "file_extension": ".py",
   "mimetype": "text/x-python",
   "name": "python",
   "nbconvert_exporter": "python",
   "pygments_lexer": "ipython3",
   "version": "3.6.3"
  }
 },
 "nbformat": 4,
 "nbformat_minor": 2
}
