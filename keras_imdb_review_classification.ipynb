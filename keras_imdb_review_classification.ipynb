{
 "cells": [
  {
   "cell_type": "code",
   "execution_count": 1,
   "metadata": {},
   "outputs": [
    {
     "name": "stderr",
     "output_type": "stream",
     "text": [
      "Using TensorFlow backend.\n"
     ]
    },
    {
     "name": "stdout",
     "output_type": "stream",
     "text": [
      "[nltk_data] Downloading package stopwords to /home/ideis/nltk_data...\n",
      "[nltk_data]   Package stopwords is already up-to-date!\n"
     ]
    },
    {
     "data": {
      "text/plain": [
       "True"
      ]
     },
     "execution_count": 1,
     "metadata": {},
     "output_type": "execute_result"
    }
   ],
   "source": [
    "import pandas as pd\n",
    "import numpy as np\n",
    "import tensorflow as tf\n",
    "import nltk, re, time\n",
    "from nltk.corpus import stopwords\n",
    "from sklearn.model_selection import train_test_split\n",
    "from keras.preprocessing.text import Tokenizer\n",
    "\n",
    "nltk.download('stopwords')"
   ]
  },
  {
   "cell_type": "code",
   "execution_count": 2,
   "metadata": {},
   "outputs": [
    {
     "data": {
      "text/html": [
       "<div>\n",
       "<style>\n",
       "    .dataframe thead tr:only-child th {\n",
       "        text-align: right;\n",
       "    }\n",
       "\n",
       "    .dataframe thead th {\n",
       "        text-align: left;\n",
       "    }\n",
       "\n",
       "    .dataframe tbody tr th {\n",
       "        vertical-align: top;\n",
       "    }\n",
       "</style>\n",
       "<table border=\"1\" class=\"dataframe\">\n",
       "  <thead>\n",
       "    <tr style=\"text-align: right;\">\n",
       "      <th></th>\n",
       "      <th>id</th>\n",
       "      <th>sentiment</th>\n",
       "      <th>review</th>\n",
       "    </tr>\n",
       "  </thead>\n",
       "  <tbody>\n",
       "    <tr>\n",
       "      <th>0</th>\n",
       "      <td>5814_8</td>\n",
       "      <td>1</td>\n",
       "      <td>With all this stuff going down at the moment w...</td>\n",
       "    </tr>\n",
       "    <tr>\n",
       "      <th>1</th>\n",
       "      <td>2381_9</td>\n",
       "      <td>1</td>\n",
       "      <td>\\The Classic War of the Worlds\\\" by Timothy Hi...</td>\n",
       "    </tr>\n",
       "    <tr>\n",
       "      <th>2</th>\n",
       "      <td>7759_3</td>\n",
       "      <td>0</td>\n",
       "      <td>The film starts with a manager (Nicholas Bell)...</td>\n",
       "    </tr>\n",
       "    <tr>\n",
       "      <th>3</th>\n",
       "      <td>3630_4</td>\n",
       "      <td>0</td>\n",
       "      <td>It must be assumed that those who praised this...</td>\n",
       "    </tr>\n",
       "    <tr>\n",
       "      <th>4</th>\n",
       "      <td>9495_8</td>\n",
       "      <td>1</td>\n",
       "      <td>Superbly trashy and wondrously unpretentious 8...</td>\n",
       "    </tr>\n",
       "  </tbody>\n",
       "</table>\n",
       "</div>"
      ],
      "text/plain": [
       "       id  sentiment                                             review\n",
       "0  5814_8          1  With all this stuff going down at the moment w...\n",
       "1  2381_9          1  \\The Classic War of the Worlds\\\" by Timothy Hi...\n",
       "2  7759_3          0  The film starts with a manager (Nicholas Bell)...\n",
       "3  3630_4          0  It must be assumed that those who praised this...\n",
       "4  9495_8          1  Superbly trashy and wondrously unpretentious 8..."
      ]
     },
     "execution_count": 2,
     "metadata": {},
     "output_type": "execute_result"
    }
   ],
   "source": [
    "data = pd.read_csv(\"data/labeledTrainData.tsv\", delimiter=\"\\t\")\n",
    "data.head()"
   ]
  },
  {
   "cell_type": "code",
   "execution_count": 3,
   "metadata": {},
   "outputs": [],
   "source": [
    "def clean_text(text, remove_stopwords=True):\n",
    "    '''Clean the text, with the option to remove stopwords'''\n",
    "    \n",
    "    text = text.lower().split()\n",
    "\n",
    "    # Optionally, remove stop words\n",
    "    if remove_stopwords:\n",
    "        stops = set(stopwords.words(\"russian\"))\n",
    "        text = [w for w in text if not w in stops]\n",
    "    \n",
    "    text = \" \".join(text)\n",
    "\n",
    "    text = re.sub(r\"<br />\", \" \", text)\n",
    "    text = re.sub(r\"[^a-z]\", \" \", text)\n",
    "    text = re.sub(r\"   \", \" \", text) # Remove any extra spaces\n",
    "    text = re.sub(r\"  \", \" \", text)\n",
    "    \n",
    "    return(text)\n",
    "\n",
    "data['review'] = data.apply(lambda x: clean_text(x['review']), axis=1)"
   ]
  },
  {
   "cell_type": "code",
   "execution_count": 4,
   "metadata": {},
   "outputs": [
    {
     "name": "stdout",
     "output_type": "stream",
     "text": [
      "\n",
      "Training set:\n",
      "  X_train: 20000\n",
      "  y_train: 20000\n",
      "\n",
      "Testing set:\n",
      "  X_test: 5000\n",
      "  y_test: 5000\n"
     ]
    }
   ],
   "source": [
    "def split_data(data, labels, train_test_split=0.8):\n",
    "    data_size = len(data)\n",
    "    test_size = int(data_size - round(data_size * train_test_split))\n",
    "    \n",
    "    print(\"\\nTraining set:\")\n",
    "    X_train = data[test_size:]\n",
    "    print(\"  X_train: {}\".format(len(X_train)))\n",
    "    y_train = labels[test_size:]\n",
    "    print(\"  y_train: {}\".format(len(y_train)))\n",
    "    \n",
    "    print(\"\\nTesting set:\")\n",
    "    X_test = data[:test_size]\n",
    "    print(\"  X_test: {}\".format(len(X_test)))\n",
    "    y_test = labels[:test_size]\n",
    "    print(\"  y_test: {}\".format(len(y_test)))\n",
    "\n",
    "    return X_train, y_train, X_test, y_test\n",
    "\n",
    "X_train, y_train, X_test, y_test = split_data(data, data['sentiment'])"
   ]
  },
  {
   "cell_type": "code",
   "execution_count": 5,
   "metadata": {},
   "outputs": [
    {
     "name": "stdout",
     "output_type": "stream",
     "text": [
      "73272 words in a dictionary\n"
     ]
    }
   ],
   "source": [
    "# Tokenize the reviews\n",
    "num_words = 1000\n",
    "\n",
    "all_reviews = data['review']\n",
    "all_reviews.head()\n",
    "tokenizer = Tokenizer(num_words=num_words)\n",
    "tokenizer.fit_on_texts(all_reviews)\n",
    "\n",
    "total_words = len(tokenizer.word_index)\n",
    "print('{} words in a dictionary'.format(total_words))\n",
    "\n",
    "X_train = tokenizer.texts_to_matrix(X_train['review'])\n",
    "X_test = tokenizer.texts_to_matrix(X_test['review'])\n"
   ]
  },
  {
   "cell_type": "code",
   "execution_count": 6,
   "metadata": {},
   "outputs": [
    {
     "name": "stdout",
     "output_type": "stream",
     "text": [
      "(20000, 1000)\n",
      "(20000, 2)\n",
      "(5000, 1000)\n",
      "(5000, 2)\n"
     ]
    }
   ],
   "source": [
    "from keras.utils import to_categorical\n",
    "y_train = to_categorical(y_train, num_classes=2)\n",
    "y_test = to_categorical(y_test, num_classes=2)\n",
    "\n",
    "print(X_train.shape)\n",
    "print(y_train.shape)\n",
    "print(X_test.shape)\n",
    "print(y_test.shape)"
   ]
  },
  {
   "cell_type": "code",
   "execution_count": 7,
   "metadata": {
    "collapsed": true
   },
   "outputs": [],
   "source": [
    "from keras.models import Sequential\n",
    "from keras.layers import Dense\n",
    "from keras.layers import Activation\n",
    "from keras.layers import Dropout\n",
    "\n",
    "model = Sequential()\n",
    "model.add(Dense(64, input_shape=(num_words,)))\n",
    "model.add(Activation('relu'))\n",
    "model.add(Dropout(0.2))\n",
    "model.add(Dense(32))\n",
    "model.add(Activation('relu'))\n",
    "model.add(Dropout(0.2))\n",
    "model.add(Dense(2))\n",
    "model.add(Activation('sigmoid'))\n",
    "\n",
    "model.compile(loss='categorical_crossentropy',\n",
    "              optimizer='adam',\n",
    "              metrics=['accuracy'])"
   ]
  },
  {
   "cell_type": "code",
   "execution_count": 8,
   "metadata": {},
   "outputs": [
    {
     "name": "stdout",
     "output_type": "stream",
     "text": [
      "Train on 18000 samples, validate on 2000 samples\n",
      "Epoch 1/15\n",
      "18000/18000 [==============================] - 2s 105us/step - loss: 0.4358 - acc: 0.7982 - val_loss: 0.3230 - val_acc: 0.8640\n",
      "Epoch 2/15\n",
      "18000/18000 [==============================] - 2s 100us/step - loss: 0.3269 - acc: 0.8612 - val_loss: 0.3123 - val_acc: 0.8635\n",
      "Epoch 3/15\n",
      "18000/18000 [==============================] - 2s 93us/step - loss: 0.2888 - acc: 0.8802 - val_loss: 0.3231 - val_acc: 0.8610\n",
      "Epoch 4/15\n",
      "18000/18000 [==============================] - 2s 93us/step - loss: 0.2519 - acc: 0.8997 - val_loss: 0.3383 - val_acc: 0.8595\n",
      "Epoch 5/15\n",
      "18000/18000 [==============================] - 2s 93us/step - loss: 0.2102 - acc: 0.9204 - val_loss: 0.3507 - val_acc: 0.8555\n",
      "Epoch 6/15\n",
      "18000/18000 [==============================] - 2s 94us/step - loss: 0.1598 - acc: 0.9399 - val_loss: 0.3932 - val_acc: 0.8495\n",
      "Epoch 7/15\n",
      "18000/18000 [==============================] - 2s 94us/step - loss: 0.1244 - acc: 0.9553 - val_loss: 0.4434 - val_acc: 0.8505\n",
      "Epoch 8/15\n",
      "18000/18000 [==============================] - 2s 99us/step - loss: 0.0973 - acc: 0.9642 - val_loss: 0.4967 - val_acc: 0.8485\n",
      "Epoch 9/15\n",
      "18000/18000 [==============================] - 2s 94us/step - loss: 0.0738 - acc: 0.9731 - val_loss: 0.5705 - val_acc: 0.8435\n",
      "Epoch 10/15\n",
      "18000/18000 [==============================] - 2s 108us/step - loss: 0.0723 - acc: 0.9746 - val_loss: 0.5661 - val_acc: 0.8405\n",
      "Epoch 11/15\n",
      "18000/18000 [==============================] - 2s 99us/step - loss: 0.0655 - acc: 0.9761 - val_loss: 0.5948 - val_acc: 0.8495\n",
      "Epoch 12/15\n",
      "18000/18000 [==============================] - 2s 99us/step - loss: 0.0515 - acc: 0.9828 - val_loss: 0.6111 - val_acc: 0.8390\n",
      "Epoch 13/15\n",
      "18000/18000 [==============================] - 2s 98us/step - loss: 0.0502 - acc: 0.9814 - val_loss: 0.6336 - val_acc: 0.8475\n",
      "Epoch 14/15\n",
      "18000/18000 [==============================] - 2s 96us/step - loss: 0.0482 - acc: 0.9824 - val_loss: 0.6328 - val_acc: 0.8545\n",
      "Epoch 15/15\n",
      "18000/18000 [==============================] - 2s 97us/step - loss: 0.0493 - acc: 0.9827 - val_loss: 0.6460 - val_acc: 0.8425\n"
     ]
    }
   ],
   "source": [
    "history = model.fit(X_train, y_train,\n",
    "                    batch_size=32,\n",
    "                    epochs=15,\n",
    "                    verbose=1,\n",
    "                    validation_split=0.1)"
   ]
  },
  {
   "cell_type": "code",
   "execution_count": 9,
   "metadata": {},
   "outputs": [
    {
     "name": "stdout",
     "output_type": "stream",
     "text": [
      "5000/5000 [==============================] - 0s 38us/step\n",
      "\n",
      "Test accuracy: 0.7643198522090912\n",
      "Model accuracy: 0.8294\n"
     ]
    }
   ],
   "source": [
    "score = model.evaluate(X_test, y_test,\n",
    "                       batch_size=32, verbose=1)\n",
    "print()\n",
    "print(u'Test accuracy: {}'.format(score[0]))\n",
    "print(u'Model accuracy: {}'.format(score[1]))"
   ]
  },
  {
   "cell_type": "code",
   "execution_count": 10,
   "metadata": {},
   "outputs": [
    {
     "data": {
      "image/png": "[encoded data removed]",
      "text/plain": [
       "<matplotlib.figure.Figure at 0x7f020ac4d710>"
      ]
     },
     "metadata": {},
     "output_type": "display_data"
    },
    {
     "data": {
      "image/png": "[encoded data removed]",
      "text/plain": [
       "<matplotlib.figure.Figure at 0x7f01f4011780>"
      ]
     },
     "metadata": {},
     "output_type": "display_data"
    }
   ],
   "source": [
    "import matplotlib.pyplot as plt\n",
    "\n",
    "# Accuracy graph\n",
    "plt.plot(history.history['acc'])\n",
    "plt.plot(history.history['val_acc'])\n",
    "plt.title('model accuracy')\n",
    "plt.ylabel('accuracy')\n",
    "plt.xlabel('epoch')\n",
    "plt.legend(['train', 'test'], loc='upper left')\n",
    "plt.show()\n",
    "# Loss graph\n",
    "plt.plot(history.history['loss'])\n",
    "plt.plot(history.history['val_loss'])\n",
    "plt.title('model loss')\n",
    "plt.ylabel('loss')\n",
    "plt.xlabel('epoch')\n",
    "plt.legend(['train', 'test'], loc='upper left')\n",
    "plt.show()"
   ]
  }
 ],
 "metadata": {
  "kernelspec": {
   "display_name": "Python 3",
   "language": "python",
   "name": "python3"
  },
  "language_info": {
   "codemirror_mode": {
    "name": "ipython",
    "version": 3
   },
   "file_extension": ".py",
   "mimetype": "text/x-python",
   "name": "python",
   "nbconvert_exporter": "python",
   "pygments_lexer": "ipython3",
   "version": "3.6.3"
  }
 },
 "nbformat": 4,
 "nbformat_minor": 2
}
