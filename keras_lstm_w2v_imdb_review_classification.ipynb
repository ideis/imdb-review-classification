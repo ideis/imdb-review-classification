{
 "cells": [
  {
   "cell_type": "code",
   "execution_count": 1,
   "metadata": {},
   "outputs": [
    {
     "name": "stderr",
     "output_type": "stream",
     "text": [
      "Using TensorFlow backend.\n"
     ]
    },
    {
     "name": "stdout",
     "output_type": "stream",
     "text": [
      "[nltk_data] Downloading package stopwords to /home/ideis/nltk_data...\n",
      "[nltk_data]   Package stopwords is already up-to-date!\n"
     ]
    }
   ],
   "source": [
    "import pandas as pd\n",
    "import numpy as np\n",
    "import tensorflow as tf\n",
    "import nltk, re, time\n",
    "from nltk.corpus import stopwords\n",
    "\n",
    "from bs4 import BeautifulSoup \n",
    "\n",
    "from sklearn.model_selection import train_test_split\n",
    "from keras.preprocessing.text import Tokenizer\n",
    "\n",
    "nltk.download('stopwords')\n",
    "from time import time\n",
    "import warnings\n",
    "warnings.filterwarnings('ignore')"
   ]
  },
  {
   "cell_type": "code",
   "execution_count": 2,
   "metadata": {},
   "outputs": [
    {
     "name": "stdout",
     "output_type": "stream",
     "text": [
      "Train: 25000, Test: 25000\n",
      "\n"
     ]
    }
   ],
   "source": [
    "train = pd.read_csv(\"data/labeledTrainData.tsv\", header=0, delimiter=\"\\t\", quoting=3)\n",
    "test = pd.read_csv( \"data/testData.tsv\", header=0, delimiter=\"\\t\", quoting=3)\n",
    "\n",
    "print(\"Train: %d, Test: %d\\n\"\n",
    "      % (train[\"review\"].size, test[\"review\"].size))"
   ]
  },
  {
   "cell_type": "code",
   "execution_count": 3,
   "metadata": {
    "collapsed": true
   },
   "outputs": [],
   "source": [
    "def clean_text(text, remove_stopwords=True):\n",
    "    '''Clean the text, with the option to remove stopwords'''\n",
    "    text = BeautifulSoup(text).get_text()\n",
    "    text = text.lower().split()\n",
    "\n",
    "    # Optionally, remove stop words\n",
    "    if remove_stopwords:\n",
    "        stops = set(stopwords.words(\"english\"))\n",
    "        text = [w for w in text if not w in stops]\n",
    "    \n",
    "    text = \" \".join(text)\n",
    "\n",
    "    text = re.sub(r\"[^a-z]\", \" \", text)\n",
    "    text = re.sub(r\"   \", \" \", text) # Remove any extra spaces\n",
    "    text = re.sub(r\"  \", \" \", text)\n",
    "    \n",
    "    return(text)\n",
    "\n",
    "def extract_sentiment(s):\n",
    "    s = re.sub(r\"[^0-9]\", \" \", s)\n",
    "    n = int(s.split()[1])\n",
    "    if n <= 5:\n",
    "        return 0\n",
    "    else:\n",
    "        return 1\n",
    "train['review'] = train.apply(lambda x: clean_text(x['review']), axis=1)\n",
    "test['review'] = test.apply(lambda x: clean_text(x['review']), axis=1)\n",
    "test['sentiment'] = test.apply(lambda x: extract_sentiment(x['id']), axis=1)"
   ]
  },
  {
   "cell_type": "code",
   "execution_count": 4,
   "metadata": {},
   "outputs": [],
   "source": [
    "from gensim.models.word2vec import Word2Vec\n",
    "\n",
    "word2vec_model = Word2Vec.load(\"model/word2vec_imdb_reviews_300d.bin\")"
   ]
  },
  {
   "cell_type": "code",
   "execution_count": 5,
   "metadata": {},
   "outputs": [],
   "source": [
    "def create_average_vec(doc):\n",
    "    average = np.zeros((text_dim,), dtype='float32')\n",
    "    num_words = 0.\n",
    "    for word in doc.split():\n",
    "        if word in word2vec_model.wv.vocab:\n",
    "            average = np.add(average, word2vec_model[word])\n",
    "            num_words += 1.\n",
    "    if num_words != 0.:\n",
    "        average = np.divide(average, num_words)\n",
    "    return average"
   ]
  },
  {
   "cell_type": "code",
   "execution_count": 6,
   "metadata": {},
   "outputs": [
    {
     "name": "stdout",
     "output_type": "stream",
     "text": [
      "Shape of data tensor: (25000, 300)\n",
      "Shape of label tensor: (25000,)\n"
     ]
    }
   ],
   "source": [
    "# Create word vectors\n",
    "text_dim = 300\n",
    "\n",
    "data = np.zeros((train.shape[0], text_dim), dtype=\"float32\")\n",
    "for i in range(len(train['review'])):\n",
    "    data[i] = create_average_vec(train['review'][i])\n",
    "    \n",
    "labels = np.asarray(train[\"sentiment\"])\n",
    "print('Shape of data tensor:', data.shape)\n",
    "print('Shape of label tensor:', labels.shape)"
   ]
  },
  {
   "cell_type": "code",
   "execution_count": 7,
   "metadata": {},
   "outputs": [],
   "source": [
    "data = np.expand_dims(data, axis=2)"
   ]
  },
  {
   "cell_type": "code",
   "execution_count": 8,
   "metadata": {},
   "outputs": [],
   "source": [
    "training_samples = 20000\n",
    "validation_samples = 5000\n",
    "\n",
    "indices = np.arange(data.shape[0])\n",
    "np.random.shuffle(indices)\n",
    "data = data[indices]\n",
    "labels = labels[indices]\n",
    "\n",
    "x_train = data[:training_samples]\n",
    "y_train = labels[:training_samples]\n",
    "x_val = data[training_samples: training_samples + validation_samples]\n",
    "y_val = labels[training_samples: training_samples + validation_samples]"
   ]
  },
  {
   "cell_type": "code",
   "execution_count": 32,
   "metadata": {
    "collapsed": true
   },
   "outputs": [
    {
     "name": "stdout",
     "output_type": "stream",
     "text": [
      "_________________________________________________________________\n",
      "Layer (type)                 Output Shape              Param #   \n",
      "=================================================================\n",
      "bidirectional_5 (Bidirection (None, 300, 128)          33792     \n",
      "_________________________________________________________________\n",
      "flatten_1 (Flatten)          (None, 38400)             0         \n",
      "_________________________________________________________________\n",
      "dense_10 (Dense)             (None, 1)                 38401     \n",
      "=================================================================\n",
      "Total params: 72,193\n",
      "Trainable params: 72,193\n",
      "Non-trainable params: 0\n",
      "_________________________________________________________________\n"
     ]
    }
   ],
   "source": [
    "from keras.models import Sequential\n",
    "from keras.layers import Embedding, Dense, Flatten, LSTM, Bidirectional\n",
    "from keras.optimizers import RMSprop\n",
    "model = Sequential()\n",
    "model.add(Bidirectional(LSTM(64, dropout=0.2, recurrent_dropout=0.5, return_sequences=True),merge_mode='concat',input_shape=(300,1)))\n",
    "# model.add(LSTM(8, dropout=0.2, recurrent_dropout=0.5, return_sequences=True, input_shape=(300,1)))\n",
    "# model.add(LSTM(8, dropout=0.2, recurrent_dropout=0.5))\n",
    "model.add(Flatten())\n",
    "model.add(Dense(1, activation='sigmoid'))\n",
    "model.compile(loss='binary_crossentropy',\n",
    "              optimizer='rmsprop',\n",
    "              metrics=['accuracy'])\n",
    "model.summary()"
   ]
  },
  {
   "cell_type": "code",
   "execution_count": 33,
   "metadata": {},
   "outputs": [
    {
     "name": "stdout",
     "output_type": "stream",
     "text": [
      "Train on 20000 samples, validate on 5000 samples\n",
      "Epoch 1/20\n",
      "20000/20000 [==============================] - 114s 6ms/step - loss: 0.6312 - acc: 0.6760 - val_loss: 0.5524 - val_acc: 0.7582\n",
      "Epoch 2/20\n",
      "20000/20000 [==============================] - 113s 6ms/step - loss: 0.5332 - acc: 0.7551 - val_loss: 0.4576 - val_acc: 0.8088\n",
      "Epoch 3/20\n",
      "20000/20000 [==============================] - 114s 6ms/step - loss: 0.4650 - acc: 0.7935 - val_loss: 0.4151 - val_acc: 0.8230\n",
      "Epoch 4/20\n",
      "20000/20000 [==============================] - 115s 6ms/step - loss: 0.4304 - acc: 0.8109 - val_loss: 0.3775 - val_acc: 0.8452\n",
      "Epoch 5/20\n",
      "20000/20000 [==============================] - 116s 6ms/step - loss: 0.4079 - acc: 0.8189 - val_loss: 0.3690 - val_acc: 0.8494\n",
      "Epoch 6/20\n",
      "20000/20000 [==============================] - 118s 6ms/step - loss: 0.3952 - acc: 0.8303 - val_loss: 0.3524 - val_acc: 0.8604\n",
      "Epoch 7/20\n",
      "20000/20000 [==============================] - 122s 6ms/step - loss: 0.3851 - acc: 0.8336 - val_loss: 0.3449 - val_acc: 0.8604\n",
      "Epoch 8/20\n",
      "20000/20000 [==============================] - 136s 7ms/step - loss: 0.3755 - acc: 0.8360 - val_loss: 0.3399 - val_acc: 0.8644\n",
      "Epoch 9/20\n",
      "20000/20000 [==============================] - 127s 6ms/step - loss: 0.3708 - acc: 0.8397 - val_loss: 0.3330 - val_acc: 0.8636\n",
      "Epoch 10/20\n",
      "20000/20000 [==============================] - 129s 6ms/step - loss: 0.3672 - acc: 0.8416 - val_loss: 0.3312 - val_acc: 0.8636\n",
      "Epoch 11/20\n",
      "20000/20000 [==============================] - 138s 7ms/step - loss: 0.3620 - acc: 0.8444 - val_loss: 0.3454 - val_acc: 0.8554\n",
      "Epoch 12/20\n",
      "20000/20000 [==============================] - 138s 7ms/step - loss: 0.3570 - acc: 0.8451 - val_loss: 0.3242 - val_acc: 0.8638\n",
      "Epoch 13/20\n",
      "20000/20000 [==============================] - 142s 7ms/step - loss: 0.3543 - acc: 0.8464 - val_loss: 0.3256 - val_acc: 0.8690\n",
      "Epoch 14/20\n",
      "20000/20000 [==============================] - 147s 7ms/step - loss: 0.3534 - acc: 0.8497 - val_loss: 0.3197 - val_acc: 0.8710\n",
      "Epoch 15/20\n",
      "20000/20000 [==============================] - 153s 8ms/step - loss: 0.3491 - acc: 0.8480 - val_loss: 0.3157 - val_acc: 0.8724\n",
      "Epoch 16/20\n",
      "20000/20000 [==============================] - 158s 8ms/step - loss: 0.3459 - acc: 0.8510 - val_loss: 0.3143 - val_acc: 0.8714\n",
      "Epoch 17/20\n",
      "20000/20000 [==============================] - 162s 8ms/step - loss: 0.3452 - acc: 0.8535 - val_loss: 0.3214 - val_acc: 0.8694\n",
      "Epoch 18/20\n",
      "20000/20000 [==============================] - 163s 8ms/step - loss: 0.3420 - acc: 0.8538 - val_loss: 0.3168 - val_acc: 0.8718\n",
      "Epoch 19/20\n",
      "20000/20000 [==============================] - 165s 8ms/step - loss: 0.3418 - acc: 0.8528 - val_loss: 0.3107 - val_acc: 0.8752\n",
      "Epoch 20/20\n",
      "20000/20000 [==============================] - 173s 9ms/step - loss: 0.3392 - acc: 0.8545 - val_loss: 0.3102 - val_acc: 0.8754\n"
     ]
    }
   ],
   "source": [
    "history = model.fit(x_train, y_train,\n",
    "                    batch_size=128,\n",
    "                    epochs=20,\n",
    "                    verbose=1,\n",
    "                    validation_data=(x_val,y_val))"
   ]
  },
  {
   "cell_type": "code",
   "execution_count": 37,
   "metadata": {},
   "outputs": [
    {
     "data": {
      "image/png": "[encoded data removed]",
      "text/plain": [
       "<matplotlib.figure.Figure at 0x7f59c0e74b70>"
      ]
     },
     "metadata": {},
     "output_type": "display_data"
    },
    {
     "data": {
      "image/png": "[encoded data removed]",
      "text/plain": [
       "<matplotlib.figure.Figure at 0x7f59c0d01a20>"
      ]
     },
     "metadata": {},
     "output_type": "display_data"
    }
   ],
   "source": [
    "import matplotlib.pyplot as plt\n",
    "\n",
    "acc = history.history['acc']\n",
    "val_acc = history.history['val_acc']\n",
    "loss = history.history['loss']\n",
    "val_loss = history.history['val_loss']\n",
    "\n",
    "epochs = range(1, len(acc) + 1)\n",
    "\n",
    "plt.figure()\n",
    "\n",
    "plt.plot(epochs, acc, 'bo', label='Training acc')\n",
    "plt.plot(epochs, val_acc, 'b', label='Validation acc')\n",
    "plt.title('Training and validation accuracy')\n",
    "plt.legend()\n",
    "plt.savefig('lstm-acc-w2v.png')\n",
    "plt.figure()\n",
    "\n",
    "plt.plot(epochs, loss, 'bo', label='Training loss')\n",
    "plt.plot(epochs, val_loss, 'b', label='Validation loss')\n",
    "plt.title('Training and validation loss')\n",
    "plt.legend()\n",
    "plt.savefig('lstm-loss-w2v.png')\n",
    "\n",
    "plt.show()"
   ]
  },
  {
   "cell_type": "code",
   "execution_count": 36,
   "metadata": {},
   "outputs": [
    {
     "name": "stdout",
     "output_type": "stream",
     "text": [
      "25000/25000 [==============================] - 64s 3ms/step\n",
      "Accuracy: 0.8688\n"
     ]
    }
   ],
   "source": [
    "x_test = np.zeros((test.shape[0], text_dim), dtype=\"float32\")\n",
    "for i in range(len(test['review'])):\n",
    "    x_test[i] = create_average_vec(test['review'][i])\n",
    "\n",
    "y_test = np.asarray(test[\"sentiment\"])\n",
    "x_test = np.expand_dims(x_test, axis=2)\n",
    "scores = model.evaluate(x_test, y_test)\n",
    "print(\"Accuracy:\", scores[1])"
   ]
  },
  {
   "cell_type": "code",
   "execution_count": 38,
   "metadata": {},
   "outputs": [
    {
     "name": "stdout",
     "output_type": "stream",
     "text": [
      "ROC-AUC: 0.9430318752\n"
     ]
    }
   ],
   "source": [
    "from sklearn.metrics import roc_auc_score\n",
    "y_pred = model.predict_proba(x_test)\n",
    "print(\"ROC-AUC:\",roc_auc_score(y_test, y_pred))"
   ]
  }
 ],
 "metadata": {
  "kernelspec": {
   "display_name": "Python 3",
   "language": "python",
   "name": "python3"
  },
  "language_info": {
   "codemirror_mode": {
    "name": "ipython",
    "version": 3
   },
   "file_extension": ".py",
   "mimetype": "text/x-python",
   "name": "python",
   "nbconvert_exporter": "python",
   "pygments_lexer": "ipython3",
   "version": "3.6.3"
  }
 },
 "nbformat": 4,
 "nbformat_minor": 2
}
