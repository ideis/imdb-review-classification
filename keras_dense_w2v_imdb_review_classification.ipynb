{
 "cells": [
  {
   "cell_type": "code",
   "execution_count": 1,
   "metadata": {},
   "outputs": [
    {
     "name": "stderr",
     "output_type": "stream",
     "text": [
      "Using TensorFlow backend.\n"
     ]
    },
    {
     "name": "stdout",
     "output_type": "stream",
     "text": [
      "[nltk_data] Downloading package stopwords to /home/ideis/nltk_data...\n",
      "[nltk_data]   Package stopwords is already up-to-date!\n"
     ]
    }
   ],
   "source": [
    "import pandas as pd\n",
    "import numpy as np\n",
    "import tensorflow as tf\n",
    "import nltk, re, time\n",
    "from nltk.corpus import stopwords\n",
    "\n",
    "from bs4 import BeautifulSoup \n",
    "\n",
    "from sklearn.model_selection import train_test_split\n",
    "from keras.preprocessing.text import Tokenizer\n",
    "\n",
    "nltk.download('stopwords')\n",
    "from time import time\n",
    "import warnings\n",
    "warnings.filterwarnings('ignore')"
   ]
  },
  {
   "cell_type": "code",
   "execution_count": 2,
   "metadata": {},
   "outputs": [
    {
     "name": "stdout",
     "output_type": "stream",
     "text": [
      "Train: 25000, Test: 25000\n",
      "\n"
     ]
    }
   ],
   "source": [
    "train = pd.read_csv(\"data/labeledTrainData.tsv\", header=0, delimiter=\"\\t\", quoting=3)\n",
    "test = pd.read_csv( \"data/testData.tsv\", header=0, delimiter=\"\\t\", quoting=3)\n",
    "\n",
    "print(\"Train: %d, Test: %d\\n\"\n",
    "      % (train[\"review\"].size, test[\"review\"].size))"
   ]
  },
  {
   "cell_type": "code",
   "execution_count": 3,
   "metadata": {
    "collapsed": true
   },
   "outputs": [],
   "source": [
    "def clean_text(text, remove_stopwords=True):\n",
    "    '''Clean the text, with the option to remove stopwords'''\n",
    "    text = BeautifulSoup(text).get_text()\n",
    "    text = text.lower().split()\n",
    "\n",
    "    # Optionally, remove stop words\n",
    "    if remove_stopwords:\n",
    "        stops = set(stopwords.words(\"english\"))\n",
    "        text = [w for w in text if not w in stops]\n",
    "    \n",
    "    text = \" \".join(text)\n",
    "\n",
    "    text = re.sub(r\"[^a-z]\", \" \", text)\n",
    "    text = re.sub(r\"   \", \" \", text) # Remove any extra spaces\n",
    "    text = re.sub(r\"  \", \" \", text)\n",
    "    \n",
    "    return(text)\n",
    "\n",
    "def extract_sentiment(s):\n",
    "    s = re.sub(r\"[^0-9]\", \" \", s)\n",
    "    n = int(s.split()[1])\n",
    "    if n <= 5:\n",
    "        return 0\n",
    "    else:\n",
    "        return 1\n",
    "train['review'] = train.apply(lambda x: clean_text(x['review']), axis=1)\n",
    "test['review'] = test.apply(lambda x: clean_text(x['review']), axis=1)\n",
    "test['sentiment'] = test.apply(lambda x: extract_sentiment(x['id']), axis=1)"
   ]
  },
  {
   "cell_type": "code",
   "execution_count": 4,
   "metadata": {},
   "outputs": [],
   "source": [
    "from gensim.models.word2vec import Word2Vec\n",
    "\n",
    "word2vec_model = Word2Vec.load(\"model/word2vec_imdb_reviews_300d.bin\")"
   ]
  },
  {
   "cell_type": "code",
   "execution_count": 5,
   "metadata": {},
   "outputs": [],
   "source": [
    "def create_average_vec(doc):\n",
    "    average = np.zeros((text_dim,), dtype='float32')\n",
    "    num_words = 0.\n",
    "    for word in doc.split():\n",
    "        if word in word2vec_model.wv.vocab:\n",
    "            average = np.add(average, word2vec_model[word])\n",
    "            num_words += 1.\n",
    "    if num_words != 0.:\n",
    "        average = np.divide(average, num_words)\n",
    "    return average"
   ]
  },
  {
   "cell_type": "code",
   "execution_count": 6,
   "metadata": {},
   "outputs": [
    {
     "name": "stdout",
     "output_type": "stream",
     "text": [
      "Shape of data tensor: (25000, 300)\n",
      "Shape of label tensor: (25000,)\n"
     ]
    }
   ],
   "source": [
    "# Create word vectors\n",
    "text_dim = 300\n",
    "\n",
    "data = np.zeros((train.shape[0], text_dim), dtype=\"float32\")\n",
    "for i in range(len(train['review'])):\n",
    "    data[i] = create_average_vec(train['review'][i])\n",
    "    \n",
    "labels = np.asarray(train[\"sentiment\"])\n",
    "print('Shape of data tensor:', data.shape)\n",
    "print('Shape of label tensor:', labels.shape)"
   ]
  },
  {
   "cell_type": "code",
   "execution_count": 7,
   "metadata": {},
   "outputs": [],
   "source": [
    "training_samples = 20000\n",
    "validation_samples = 5000\n",
    "\n",
    "indices = np.arange(data.shape[0])\n",
    "np.random.shuffle(indices)\n",
    "data = data[indices]\n",
    "labels = labels[indices]\n",
    "\n",
    "x_train = data[:training_samples]\n",
    "y_train = labels[:training_samples]\n",
    "x_val = data[training_samples: training_samples + validation_samples]\n",
    "y_val = labels[training_samples: training_samples + validation_samples]"
   ]
  },
  {
   "cell_type": "code",
   "execution_count": 17,
   "metadata": {
    "collapsed": true
   },
   "outputs": [
    {
     "name": "stdout",
     "output_type": "stream",
     "text": [
      "_________________________________________________________________\n",
      "Layer (type)                 Output Shape              Param #   \n",
      "=================================================================\n",
      "dense_10 (Dense)             (None, 128)               38528     \n",
      "_________________________________________________________________\n",
      "dropout_7 (Dropout)          (None, 128)               0         \n",
      "_________________________________________________________________\n",
      "dense_11 (Dense)             (None, 64)                8256      \n",
      "_________________________________________________________________\n",
      "dropout_8 (Dropout)          (None, 64)                0         \n",
      "_________________________________________________________________\n",
      "dense_12 (Dense)             (None, 32)                2080      \n",
      "_________________________________________________________________\n",
      "dropout_9 (Dropout)          (None, 32)                0         \n",
      "_________________________________________________________________\n",
      "dense_13 (Dense)             (None, 1)                 33        \n",
      "=================================================================\n",
      "Total params: 48,897\n",
      "Trainable params: 48,897\n",
      "Non-trainable params: 0\n",
      "_________________________________________________________________\n"
     ]
    }
   ],
   "source": [
    "from keras import layers\n",
    "from keras.models import Sequential\n",
    "from keras.layers import Dense\n",
    "from keras.layers import Activation\n",
    "from keras.layers import Dropout\n",
    "from keras.layers import Flatten\n",
    "\n",
    "model = Sequential()\n",
    "model.add(Dense(128, activation='relu', input_dim=300))\n",
    "model.add(Dropout(0.25))\n",
    "model.add(Dense(64, activation='relu'))\n",
    "model.add(Dropout(0.25))\n",
    "model.add(Dense(32, activation='relu'))\n",
    "model.add(Dropout(0.25))\n",
    "model.add(Dense(1, activation='sigmoid'))\n",
    "\n",
    "model.compile(loss='binary_crossentropy',\n",
    "              optimizer='adam',\n",
    "              metrics=['accuracy'])\n",
    "model.summary()"
   ]
  },
  {
   "cell_type": "code",
   "execution_count": 18,
   "metadata": {},
   "outputs": [
    {
     "name": "stdout",
     "output_type": "stream",
     "text": [
      "Train on 20000 samples, validate on 5000 samples\n",
      "Epoch 1/20\n",
      "20000/20000 [==============================] - 2s 113us/step - loss: 0.3898 - acc: 0.8352 - val_loss: 0.3070 - val_acc: 0.8754\n",
      "Epoch 2/20\n",
      "20000/20000 [==============================] - 2s 93us/step - loss: 0.3232 - acc: 0.8672 - val_loss: 0.3016 - val_acc: 0.8730\n",
      "Epoch 3/20\n",
      "20000/20000 [==============================] - 2s 92us/step - loss: 0.3158 - acc: 0.8701 - val_loss: 0.2988 - val_acc: 0.8750\n",
      "Epoch 4/20\n",
      "20000/20000 [==============================] - 2s 93us/step - loss: 0.3103 - acc: 0.8722 - val_loss: 0.2952 - val_acc: 0.8792\n",
      "Epoch 5/20\n",
      "20000/20000 [==============================] - 2s 95us/step - loss: 0.3055 - acc: 0.8750 - val_loss: 0.2909 - val_acc: 0.8816\n",
      "Epoch 6/20\n",
      "20000/20000 [==============================] - 2s 96us/step - loss: 0.2971 - acc: 0.8804 - val_loss: 0.2957 - val_acc: 0.8792\n",
      "Epoch 7/20\n",
      "20000/20000 [==============================] - 2s 105us/step - loss: 0.2920 - acc: 0.8821 - val_loss: 0.2932 - val_acc: 0.8762\n",
      "Epoch 8/20\n",
      "20000/20000 [==============================] - 2s 98us/step - loss: 0.2877 - acc: 0.8827 - val_loss: 0.3067 - val_acc: 0.8758\n",
      "Epoch 9/20\n",
      "20000/20000 [==============================] - 2s 100us/step - loss: 0.2880 - acc: 0.8821 - val_loss: 0.2916 - val_acc: 0.8814\n",
      "Epoch 10/20\n",
      "20000/20000 [==============================] - 2s 111us/step - loss: 0.2797 - acc: 0.8846 - val_loss: 0.2845 - val_acc: 0.8818\n",
      "Epoch 11/20\n",
      "20000/20000 [==============================] - 2s 103us/step - loss: 0.2768 - acc: 0.8882 - val_loss: 0.2836 - val_acc: 0.8846\n",
      "Epoch 12/20\n",
      "20000/20000 [==============================] - 2s 108us/step - loss: 0.2717 - acc: 0.8912 - val_loss: 0.2868 - val_acc: 0.8812\n",
      "Epoch 13/20\n",
      "20000/20000 [==============================] - 2s 120us/step - loss: 0.2682 - acc: 0.8913 - val_loss: 0.2896 - val_acc: 0.8790\n",
      "Epoch 14/20\n",
      "20000/20000 [==============================] - 2s 116us/step - loss: 0.2632 - acc: 0.8928 - val_loss: 0.2854 - val_acc: 0.8838\n",
      "Epoch 15/20\n",
      "20000/20000 [==============================] - 3s 140us/step - loss: 0.2601 - acc: 0.8941 - val_loss: 0.2961 - val_acc: 0.8830\n",
      "Epoch 16/20\n",
      "20000/20000 [==============================] - 2s 112us/step - loss: 0.2583 - acc: 0.8977 - val_loss: 0.2879 - val_acc: 0.8776\n",
      "Epoch 17/20\n",
      "20000/20000 [==============================] - 2s 119us/step - loss: 0.2508 - acc: 0.8982 - val_loss: 0.2998 - val_acc: 0.8802\n",
      "Epoch 18/20\n",
      "20000/20000 [==============================] - 3s 128us/step - loss: 0.2474 - acc: 0.9025 - val_loss: 0.2991 - val_acc: 0.8778\n",
      "Epoch 19/20\n",
      "20000/20000 [==============================] - 2s 124us/step - loss: 0.2406 - acc: 0.9055 - val_loss: 0.2897 - val_acc: 0.8812\n",
      "Epoch 20/20\n",
      "20000/20000 [==============================] - 3s 141us/step - loss: 0.2399 - acc: 0.9067 - val_loss: 0.2941 - val_acc: 0.8818\n"
     ]
    }
   ],
   "source": [
    "history = model.fit(x_train, y_train,\n",
    "                    batch_size=32,\n",
    "                    epochs=20,\n",
    "                    verbose=1,\n",
    "                    validation_data=(x_val,y_val))"
   ]
  },
  {
   "cell_type": "code",
   "execution_count": 19,
   "metadata": {},
   "outputs": [
    {
     "data": {
      "image/png": "[encoded data removed]",
      "text/plain": [
       "<matplotlib.figure.Figure at 0x7ff19ef48278>"
      ]
     },
     "metadata": {},
     "output_type": "display_data"
    },
    {
     "data": {
      "image/png": "[encoded data removed]",
      "text/plain": [
       "<matplotlib.figure.Figure at 0x7ff19ef2e748>"
      ]
     },
     "metadata": {},
     "output_type": "display_data"
    }
   ],
   "source": [
    "import matplotlib.pyplot as plt\n",
    "\n",
    "acc = history.history['acc']\n",
    "val_acc = history.history['val_acc']\n",
    "loss = history.history['loss']\n",
    "val_loss = history.history['val_loss']\n",
    "\n",
    "epochs = range(1, len(acc) + 1)\n",
    "\n",
    "plt.figure()\n",
    "\n",
    "plt.plot(epochs, acc, 'bo', label='Training acc')\n",
    "plt.plot(epochs, val_acc, 'b', label='Validation acc')\n",
    "plt.title('Training and validation accuracy')\n",
    "plt.legend()\n",
    "plt.savefig('dense-acc-w2v.png')\n",
    "plt.figure()\n",
    "\n",
    "plt.plot(epochs, loss, 'bo', label='Training loss')\n",
    "plt.plot(epochs, val_loss, 'b', label='Validation loss')\n",
    "plt.title('Training and validation loss')\n",
    "plt.legend()\n",
    "plt.savefig('dense-loss-w2v.png')\n",
    "\n",
    "plt.show()"
   ]
  },
  {
   "cell_type": "code",
   "execution_count": 20,
   "metadata": {},
   "outputs": [
    {
     "name": "stdout",
     "output_type": "stream",
     "text": [
      "25000/25000 [==============================] - 1s 38us/step\n",
      "Accuracy: 0.87784\n"
     ]
    }
   ],
   "source": [
    "x_test = np.zeros((test.shape[0], text_dim), dtype=\"float32\")\n",
    "for i in range(len(test['review'])):\n",
    "    x_test[i] = create_average_vec(test['review'][i])\n",
    "\n",
    "y_test = np.asarray(test[\"sentiment\"])\n",
    "\n",
    "scores = model.evaluate(x_test, y_test)\n",
    "print(\"Accuracy:\", scores[1])"
   ]
  },
  {
   "cell_type": "code",
   "execution_count": 21,
   "metadata": {},
   "outputs": [
    {
     "name": "stdout",
     "output_type": "stream",
     "text": [
      "ROC-AUC: 0.9486734496\n"
     ]
    }
   ],
   "source": [
    "from sklearn.metrics import roc_auc_score\n",
    "y_pred = model.predict_proba(x_test)\n",
    "print(\"ROC-AUC:\",roc_auc_score(y_test, y_pred))"
   ]
  }
 ],
 "metadata": {
  "kernelspec": {
   "display_name": "Python 3",
   "language": "python",
   "name": "python3"
  },
  "language_info": {
   "codemirror_mode": {
    "name": "ipython",
    "version": 3
   },
   "file_extension": ".py",
   "mimetype": "text/x-python",
   "name": "python",
   "nbconvert_exporter": "python",
   "pygments_lexer": "ipython3",
   "version": "3.6.3"
  }
 },
 "nbformat": 4,
 "nbformat_minor": 2
}
