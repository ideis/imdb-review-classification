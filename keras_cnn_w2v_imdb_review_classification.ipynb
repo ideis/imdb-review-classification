{
 "cells": [
  {
   "cell_type": "code",
   "execution_count": 2,
   "metadata": {},
   "outputs": [],
   "source": [
    "import os\n",
    "import numpy as np\n",
    "import pandas as pd\n",
    "\n",
    "import seaborn as sns\n",
    "import matplotlib.pyplot as plt\n",
    "sns.set_context('notebook')\n",
    "\n",
    "import gensim\n",
    "import spacy\n",
    "import string\n",
    "import re\n",
    "from bs4 import BeautifulSoup \n",
    "from nltk.corpus import stopwords\n",
    "stopwords = set(stopwords.words('english'))\n",
    "\n",
    "from time import time\n",
    "\n",
    "import warnings\n",
    "warnings.filterwarnings('ignore')"
   ]
  },
  {
   "cell_type": "code",
   "execution_count": 3,
   "metadata": {},
   "outputs": [
    {
     "name": "stdout",
     "output_type": "stream",
     "text": [
      "Train: 25000, Test: 25000\n",
      "\n"
     ]
    }
   ],
   "source": [
    "train = pd.read_csv(\"data/labeledTrainData.tsv\", header=0, delimiter=\"\\t\", quoting=3)\n",
    "test = pd.read_csv( \"data/testData.tsv\", header=0, delimiter=\"\\t\", quoting=3)\n",
    "\n",
    "print(\"Train: %d, Test: %d\\n\"\n",
    "      % (train[\"review\"].size, test[\"review\"].size))"
   ]
  },
  {
   "cell_type": "code",
   "execution_count": 4,
   "metadata": {},
   "outputs": [],
   "source": [
    "def clean_text(text, remove_stopwords=True):\n",
    "    '''Clean the text, with the option to remove stopwords'''\n",
    "    text = BeautifulSoup(text).get_text()\n",
    "    text = text.lower().split()\n",
    "\n",
    "    # Optionally, remove stop words\n",
    "    if remove_stopwords:\n",
    "        text = [w for w in text if not w in stopwords]\n",
    "    \n",
    "    text = \" \".join(text)\n",
    "\n",
    "    text = re.sub(r\"[^a-z]\", \" \", text)\n",
    "    text = re.sub(r\"   \", \" \", text) # Remove any extra spaces\n",
    "    text = re.sub(r\"  \", \" \", text)\n",
    "    \n",
    "    return(text)\n",
    "\n",
    "def extract_sentiment(s):\n",
    "    s = re.sub(r\"[^0-9]\", \" \", s)\n",
    "    n = int(s.split()[1])\n",
    "    if n <= 5:\n",
    "        return 0\n",
    "    else:\n",
    "        return 1\n",
    "train['review'] = train.apply(lambda x: clean_text(x['review']), axis=1)\n",
    "test['review'] = test.apply(lambda x: clean_text(x['review']), axis=1)\n",
    "test['sentiment'] = test.apply(lambda x: extract_sentiment(x['id']), axis=1)"
   ]
  },
  {
   "cell_type": "code",
   "execution_count": 5,
   "metadata": {},
   "outputs": [],
   "source": [
    "from gensim.models.word2vec import Word2Vec\n",
    "\n",
    "word2vec_model = Word2Vec.load(\"model/word2vec_imdb_reviews_300d.bin\")"
   ]
  },
  {
   "cell_type": "code",
   "execution_count": 6,
   "metadata": {},
   "outputs": [],
   "source": [
    "def create_average_vec(doc):\n",
    "    average = np.zeros((text_dim,), dtype='float32')\n",
    "    num_words = 0.\n",
    "    for word in doc.split():\n",
    "        if word in word2vec_model.wv.vocab:\n",
    "            average = np.add(average, word2vec_model[word])\n",
    "            num_words += 1.\n",
    "    if num_words != 0.:\n",
    "        average = np.divide(average, num_words)\n",
    "    return average"
   ]
  },
  {
   "cell_type": "code",
   "execution_count": 7,
   "metadata": {},
   "outputs": [
    {
     "name": "stdout",
     "output_type": "stream",
     "text": [
      "Shape of data tensor: (25000, 300)\n",
      "Shape of label tensor: (25000,)\n"
     ]
    }
   ],
   "source": [
    "# Create word vectors\n",
    "text_dim = 300\n",
    "\n",
    "data = np.zeros((train.shape[0], text_dim), dtype=\"float32\")\n",
    "for i in range(len(train['review'])):\n",
    "    data[i] = create_average_vec(train['review'][i])\n",
    "    \n",
    "labels = np.asarray(train[\"sentiment\"])\n",
    "print('Shape of data tensor:', data.shape)\n",
    "print('Shape of label tensor:', labels.shape)"
   ]
  },
  {
   "cell_type": "code",
   "execution_count": 8,
   "metadata": {},
   "outputs": [],
   "source": [
    "data = np.expand_dims(data, axis=2)"
   ]
  },
  {
   "cell_type": "code",
   "execution_count": 9,
   "metadata": {},
   "outputs": [],
   "source": [
    "# Split the data into a training set and a validation set\n",
    "training_samples = 20000\n",
    "validation_samples = 5000\n",
    "\n",
    "indices = np.arange(data.shape[0])\n",
    "np.random.shuffle(indices)\n",
    "data = data[indices]\n",
    "labels = labels[indices]\n",
    "\n",
    "x_train = data[:training_samples]\n",
    "y_train = labels[:training_samples]\n",
    "x_val = data[training_samples: training_samples + validation_samples]\n",
    "y_val = labels[training_samples: training_samples + validation_samples]"
   ]
  },
  {
   "cell_type": "code",
   "execution_count": 10,
   "metadata": {},
   "outputs": [
    {
     "name": "stdout",
     "output_type": "stream",
     "text": [
      "_________________________________________________________________\n",
      "Layer (type)                 Output Shape              Param #   \n",
      "=================================================================\n",
      "conv1d_2 (Conv1D)            (None, 297, 32)           160       \n",
      "_________________________________________________________________\n",
      "max_pooling1d_2 (MaxPooling1 (None, 148, 32)           0         \n",
      "_________________________________________________________________\n",
      "dropout_2 (Dropout)          (None, 148, 32)           0         \n",
      "_________________________________________________________________\n",
      "lstm_1 (LSTM)                (None, 16)                3136      \n",
      "_________________________________________________________________\n",
      "dense_1 (Dense)              (None, 1)                 17        \n",
      "=================================================================\n",
      "Total params: 3,313\n",
      "Trainable params: 3,313\n",
      "Non-trainable params: 0\n",
      "_________________________________________________________________\n"
     ]
    }
   ],
   "source": [
    "from keras.models import Sequential\n",
    "from keras.layers import Embedding, Dense, Conv1D, LSTM, MaxPooling1D, GlobalMaxPooling1D, Dropout\n",
    "from keras.initializers import glorot_normal\n",
    "model = Sequential()\n",
    "\n",
    "model.add(Conv1D(32, kernel_size=4, activation='relu', kernel_initializer='glorot_normal', input_shape=(300,1)))\n",
    "model.add(MaxPooling1D(2))\n",
    "model.add(Dropout(0.3))\n",
    "model.add(LSTM(16, dropout=0.2, recurrent_dropout=0.5))\n",
    "\n",
    "model.add(Dense(1, activation='sigmoid'))\n",
    "\n",
    "model.summary()\n",
    "\n",
    "model.compile(optimizer='adam',\n",
    "              loss='binary_crossentropy',\n",
    "              metrics=['acc'])"
   ]
  },
  {
   "cell_type": "code",
   "execution_count": 11,
   "metadata": {},
   "outputs": [
    {
     "name": "stdout",
     "output_type": "stream",
     "text": [
      "Train on 20000 samples, validate on 5000 samples\n",
      "Epoch 1/10\n",
      "20000/20000 [==============================] - 33s 2ms/step - loss: 0.6930 - acc: 0.5057 - val_loss: 0.6927 - val_acc: 0.4886\n",
      "Epoch 2/10\n",
      "20000/20000 [==============================] - 34s 2ms/step - loss: 0.6905 - acc: 0.5388 - val_loss: 0.6855 - val_acc: 0.6414\n",
      "Epoch 3/10\n",
      "20000/20000 [==============================] - 32s 2ms/step - loss: 0.6698 - acc: 0.6071 - val_loss: 0.6464 - val_acc: 0.6534\n",
      "Epoch 4/10\n",
      "20000/20000 [==============================] - 38s 2ms/step - loss: 0.6452 - acc: 0.6307 - val_loss: 0.6248 - val_acc: 0.6640\n",
      "Epoch 5/10\n",
      "20000/20000 [==============================] - 46s 2ms/step - loss: 0.6367 - acc: 0.6396 - val_loss: 0.6205 - val_acc: 0.6640\n",
      "Epoch 6/10\n",
      "20000/20000 [==============================] - 56s 3ms/step - loss: 0.6299 - acc: 0.6513 - val_loss: 0.6154 - val_acc: 0.6704\n",
      "Epoch 7/10\n",
      "20000/20000 [==============================] - 58s 3ms/step - loss: 0.6256 - acc: 0.6545 - val_loss: 0.6128 - val_acc: 0.6710\n",
      "Epoch 8/10\n",
      "20000/20000 [==============================] - 63s 3ms/step - loss: 0.6219 - acc: 0.6601 - val_loss: 0.6089 - val_acc: 0.6716\n",
      "Epoch 9/10\n",
      "20000/20000 [==============================] - 60s 3ms/step - loss: 0.6200 - acc: 0.6635 - val_loss: 0.6036 - val_acc: 0.6768\n",
      "Epoch 10/10\n",
      "20000/20000 [==============================] - 57s 3ms/step - loss: 0.6204 - acc: 0.6606 - val_loss: 0.6073 - val_acc: 0.6722\n"
     ]
    }
   ],
   "source": [
    "history = model.fit(x_train, y_train,\n",
    "                    epochs=10,\n",
    "                    batch_size=100,\n",
    "                    validation_data=(x_val, y_val))"
   ]
  },
  {
   "cell_type": "code",
   "execution_count": 14,
   "metadata": {},
   "outputs": [],
   "source": [
    "import matplotlib.pyplot as plt\n",
    "\n",
    "acc = history.history['acc']\n",
    "val_acc = history.history['val_acc']\n",
    "loss = history.history['loss']\n",
    "val_loss = history.history['val_loss']\n",
    "\n",
    "epochs = range(1, len(acc) + 1)\n",
    "\n",
    "plt.figure()\n",
    "plt.plot(epochs, acc, 'bo', label='Training acc')\n",
    "plt.plot(epochs, val_acc, 'b', label='Validation acc')\n",
    "plt.title('Training and validation accuracy')\n",
    "plt.legend()\n",
    "plt.savefig(\"cnn-acc-w2v.png\")\n",
    "\n",
    "plt.figure()\n",
    "\n",
    "plt.plot(epochs, loss, 'bo', label='Training loss')\n",
    "plt.plot(epochs, val_loss, 'b', label='Validation loss')\n",
    "plt.title('Training and validation loss')\n",
    "plt.legend()\n",
    "\n",
    "plt.savefig(\"cnn-loss-w2v.png\")"
   ]
  },
  {
   "cell_type": "code",
   "execution_count": 12,
   "metadata": {},
   "outputs": [
    {
     "name": "stdout",
     "output_type": "stream",
     "text": [
      "25000/25000 [==============================] - 15s 606us/step\n"
     ]
    },
    {
     "data": {
      "text/plain": [
       "[0.34844527755737303, 0.84899999999999998]"
      ]
     },
     "execution_count": 12,
     "metadata": {},
     "output_type": "execute_result"
    }
   ],
   "source": [
    "def extract_sentiment(s):\n",
    "    s = re.sub(r\"[^0-9]\", \" \", s)\n",
    "    n = int(s.split()[1])\n",
    "    if n <= 5:\n",
    "        return 0\n",
    "    else:\n",
    "        return 1\n",
    "\n",
    "test['sentiment'] = test.apply(lambda x: extract_sentiment(x['id']), axis=1)\n",
    "test_prep = preprocess_text(test['review'])\n",
    "sequences = tokenizer.texts_to_sequences(test_prep)\n",
    "x_test = pad_sequences(sequences, maxlen=maxlen)\n",
    "y_test = np.asarray(test[\"sentiment\"])\n",
    "model.evaluate(x_test, y_test)"
   ]
  }
 ],
 "metadata": {
  "kernelspec": {
   "display_name": "Python 3",
   "language": "python",
   "name": "python3"
  },
  "language_info": {
   "codemirror_mode": {
    "name": "ipython",
    "version": 3
   },
   "file_extension": ".py",
   "mimetype": "text/x-python",
   "name": "python",
   "nbconvert_exporter": "python",
   "pygments_lexer": "ipython3",
   "version": "3.6.3"
  }
 },
 "nbformat": 4,
 "nbformat_minor": 2
}
