{
 "cells": [
  {
   "cell_type": "code",
   "execution_count": 1,
   "metadata": {},
   "outputs": [
    {
     "name": "stderr",
     "output_type": "stream",
     "text": [
      "Using TensorFlow backend.\n"
     ]
    },
    {
     "name": "stdout",
     "output_type": "stream",
     "text": [
      "[nltk_data] Downloading package stopwords to /home/ideis/nltk_data...\n",
      "[nltk_data]   Package stopwords is already up-to-date!\n"
     ]
    }
   ],
   "source": [
    "import pandas as pd\n",
    "import numpy as np\n",
    "import tensorflow as tf\n",
    "import nltk, re, time\n",
    "from nltk.corpus import stopwords\n",
    "\n",
    "from bs4 import BeautifulSoup \n",
    "\n",
    "from sklearn.model_selection import train_test_split\n",
    "from keras.preprocessing.text import Tokenizer\n",
    "\n",
    "nltk.download('stopwords')\n",
    "from time import time\n",
    "import warnings\n",
    "warnings.filterwarnings('ignore')"
   ]
  },
  {
   "cell_type": "code",
   "execution_count": 2,
   "metadata": {},
   "outputs": [
    {
     "name": "stdout",
     "output_type": "stream",
     "text": [
      "Train: 25000, Test: 25000\n",
      "\n"
     ]
    }
   ],
   "source": [
    "train = pd.read_csv(\"data/labeledTrainData.tsv\", header=0, delimiter=\"\\t\", quoting=3)\n",
    "test = pd.read_csv( \"data/testData.tsv\", header=0, delimiter=\"\\t\", quoting=3)\n",
    "\n",
    "print(\"Train: %d, Test: %d\\n\"\n",
    "      % (train[\"review\"].size, test[\"review\"].size))"
   ]
  },
  {
   "cell_type": "code",
   "execution_count": 4,
   "metadata": {},
   "outputs": [],
   "source": [
    "def clean_text(text, remove_stopwords=True):\n",
    "    '''Clean the text, with the option to remove stopwords'''\n",
    "    text = BeautifulSoup(text).get_text()\n",
    "    text = text.lower().split()\n",
    "\n",
    "    # Optionally, remove stop words\n",
    "    if remove_stopwords:\n",
    "        stops = set(stopwords.words(\"english\"))\n",
    "        text = [w for w in text if not w in stops]\n",
    "    \n",
    "    text = \" \".join(text)\n",
    "\n",
    "    text = re.sub(r\"[^a-z]\", \" \", text)\n",
    "    text = re.sub(r\"   \", \" \", text) # Remove any extra spaces\n",
    "    text = re.sub(r\"  \", \" \", text)\n",
    "    \n",
    "    return(text)\n",
    "\n",
    "def extract_sentiment(s):\n",
    "    s = re.sub(r\"[^0-9]\", \" \", s)\n",
    "    n = int(s.split()[1])\n",
    "    if n <= 5:\n",
    "        return 0\n",
    "    else:\n",
    "        return 1\n",
    "train['review'] = train.apply(lambda x: clean_text(x['review']), axis=1)\n",
    "test['review'] = test.apply(lambda x: clean_text(x['review']), axis=1)\n",
    "test['sentiment'] = test.apply(lambda x: extract_sentiment(x['id']), axis=1)"
   ]
  },
  {
   "cell_type": "code",
   "execution_count": 14,
   "metadata": {},
   "outputs": [],
   "source": [
    "from sklearn.feature_extraction.text import CountVectorizer, TfidfVectorizer\n",
    "\n",
    "def build_feature_matrix(documents, ngram_range=(1, 1), min_df=0.0, max_df=1.0):\n",
    "    \n",
    "    vectorizer = TfidfVectorizer(min_df=min_df, max_df=max_df, \n",
    "                                 ngram_range=ngram_range)\n",
    "    \n",
    "    feature_matrix = vectorizer.fit_transform(documents).astype(float)\n",
    "    \n",
    "    return vectorizer, feature_matrix\n",
    "\n",
    "\n",
    "vectorizer, train_features = build_feature_matrix(documents=train['review'],\n",
    "                                                  ngram_range=(1,2), \n",
    "                                                  min_df=0.0, max_df=1.0)   \n",
    "\n",
    "test_features = vectorizer.transform(test['review'])\n",
    "train_rating = np.asarray(train['sentiment'])\n",
    "test_rating = np.asarray(test['sentiment'])"
   ]
  },
  {
   "cell_type": "code",
   "execution_count": 13,
   "metadata": {},
   "outputs": [
    {
     "name": "stdout",
     "output_type": "stream",
     "text": [
      "Cross-validation Accuracy: 0.87\n",
      "Cross-validation Accuracy: 0.89\n"
     ]
    }
   ],
   "source": [
    "# best model selection and hyperparameters optimization\n",
    "from sklearn.model_selection import cross_val_score\n",
    "\n",
    "from sklearn.naive_bayes import MultinomialNB\n",
    "from sklearn.linear_model import LogisticRegression\n",
    "    \n",
    "nb = MultinomialNB(alpha=1.0, class_prior=None, fit_prior=True)\n",
    "scores = cross_val_score(nb, train_features, train_rating, cv=5)\n",
    "print(\"Cross-validation Accuracy: %0.2f\" % (scores.mean()))\n",
    "\n",
    "lg = LogisticRegression(solver='newton-cg',\n",
    "                        multi_class='multinomial',\n",
    "                        C=1,\n",
    "                        penalty='l2',\n",
    "                        max_iter=100,\n",
    "                        random_state=42)\n",
    "scores = cross_val_score(lg, train_features, train_rating, cv=5)\n",
    "print(\"Cross-validation Accuracy: %0.2f\" % (scores.mean()))"
   ]
  },
  {
   "cell_type": "code",
   "execution_count": 16,
   "metadata": {},
   "outputs": [
    {
     "name": "stdout",
     "output_type": "stream",
     "text": [
      "MultinomialNB(alpha=1.0, class_prior=None, fit_prior=True)\n",
      "Accuracy: 0.83\n",
      "ROC-AUC: 0.83\n",
      "\n",
      "LogisticRegression(C=1, class_weight=None, dual=False, fit_intercept=True,\n",
      "          intercept_scaling=1, max_iter=100, multi_class='multinomial',\n",
      "          n_jobs=1, penalty='l2', random_state=42, solver='newton-cg',\n",
      "          tol=0.0001, verbose=0, warm_start=False)\n",
      "Accuracy: 0.86\n",
      "ROC-AUC: 0.86\n"
     ]
    }
   ],
   "source": [
    "# model evaluation and metrics\n",
    "from sklearn import metrics\n",
    "\n",
    "def display_evaluation_metrics(true_labels, predicted_labels):\n",
    "    \n",
    "    print('Accuracy:', np.round(\n",
    "                        metrics.accuracy_score(true_labels, \n",
    "                                               predicted_labels),\n",
    "                        2))\n",
    "    print('ROC-AUC:', np.round(\n",
    "                    metrics.roc_auc_score(true_labels, \n",
    "                                           predicted_labels),\n",
    "                        2))\n",
    "    \n",
    "def display_model_quality(model, test_features, test_rating):\n",
    "    predicted_sentiments = model.predict(test_features)\n",
    "    \n",
    "    print(model)\n",
    "    display_evaluation_metrics(true_labels=test_rating,\n",
    "                               predicted_labels=predicted_sentiments)\n",
    "nb.fit(train_features, train_rating)\n",
    "display_model_quality(nb, test_features, test_rating)\n",
    "print()\n",
    "lg.fit(train_features, train_rating)\n",
    "display_model_quality(lg, test_features, test_rating)"
   ]
  }
 ],
 "metadata": {
  "kernelspec": {
   "display_name": "Python 3",
   "language": "python",
   "name": "python3"
  },
  "language_info": {
   "codemirror_mode": {
    "name": "ipython",
    "version": 3
   },
   "file_extension": ".py",
   "mimetype": "text/x-python",
   "name": "python",
   "nbconvert_exporter": "python",
   "pygments_lexer": "ipython3",
   "version": "3.6.3"
  }
 },
 "nbformat": 4,
 "nbformat_minor": 2
}
